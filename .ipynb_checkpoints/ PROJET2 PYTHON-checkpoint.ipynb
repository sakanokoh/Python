{
 "cells": [
  {
   "cell_type": "markdown",
   "id": "7de6b3f2",
   "metadata": {},
   "source": [
    "# PROJET2 PYTHON"
   ]
  },
  {
   "cell_type": "markdown",
   "id": "b26f908c",
   "metadata": {},
   "source": [
    "## Exercice 1\n",
    "### 1. Ecrire une fonction nommée get_index_word qui prend en entrée un mot sous forme de str et une phrase sous forme de str et retourne l’indice du début et l’indice de la fin de la première occurence de mot dans phrase si mot figure dans phrase. Dans le cas contraire, la fonction get_index_word devra retourner None.\n",
    "### 2. En utilisant la fonction get_index_word, écrire une fonction get_all_indices qui prend en entrée un mot sous forme de str et une phrase sous forme de str et retourne une liste de couples composés d’indices de début et de fin de mot dans phrase. Si mot ne figure pas dans phrase, la fonction get_all_indices devra retourner une liste vide.\n",
    "#### Remarque : On fera pas de différence entre les minuscules et les majuscules.\n",
    "### Exemples :\n",
    "#### • get_index_word(\"est\", \"2 est un entier\") --> (2, 4)\n",
    "#### • get_index_word(\"un\", \"2 est un entier\") --> (6, 7)\n",
    "#### • get_all_indices(\"un\", \"Un entier est un real\") --> [(0, 1), (14, 15)]\n",
    "#### • get_all_indices(\"dic\", \"Dic 1, dic 2 et Dic 3\") --> [(0, 2), (7, 9), (16, 18)]"
   ]
  },
  {
   "cell_type": "markdown",
   "id": "d55c5b93",
   "metadata": {},
   "source": [
    "### 1. Ecrire une fonction nommée get_index_word qui prend en entrée un mot sous forme de str et une phrase sous forme de str et retourne l’indice du début et l’indice de la fin de la première occurence de mot dans phrase si mot figure dans phrase. Dans le cas contraire, la fonction get_index_word devra retourner None."
   ]
  },
  {
   "cell_type": "code",
   "execution_count": null,
   "id": "064f82ac",
   "metadata": {},
   "outputs": [],
   "source": []
  },
  {
   "cell_type": "markdown",
   "id": "2bf98f9e",
   "metadata": {},
   "source": [
    "### 2. En utilisant la fonction get_index_word, écrire une fonction get_all_indices qui prend en entrée un mot sous forme de str et une phrase sous forme de str et retourne une liste de couples composés d’indices de début et de fin de mot dans phrase. Si mot ne figure pas dans phrase, la fonction get_all_indices devra retourner une liste vide."
   ]
  },
  {
   "cell_type": "code",
   "execution_count": null,
   "id": "1ccdb518",
   "metadata": {},
   "outputs": [],
   "source": []
  },
  {
   "cell_type": "markdown",
   "id": "ccd1176a",
   "metadata": {},
   "source": [
    "## Exercice 2\n",
    "### Les positions sur un échiquier sont identifiées par une lettre et un chiffre. La lettre identifie lacolonne, tandis que le numéro identifie la ligne, comme indiqué ci-dessous :\n",
    "### Ecrire une une fonction get_color qui prend en entrée un chiffre n entre 1 et 8, et une lettre letter parmi (a, b, c d, e, f, g, h) et retourne la couleur correspondante (\"Noire\" ou \"Blanche\")."
   ]
  },
  {
   "cell_type": "markdown",
   "id": "c1a6bfa6",
   "metadata": {},
   "source": [
    "## Exemple :\n",
    "### • Pour n = 1, et letter='d', la couleur correspondante est 'Blanche'.\n",
    "### • Pour n = 3, et letter='e', la couleur correspondante est 'Noire'.\n",
    "### • Pour n = 8, et letter='d', la couleur correspondante est 'Noire'"
   ]
  },
  {
   "cell_type": "markdown",
   "id": "dd68b6b5",
   "metadata": {},
   "source": [
    "## 1ère Méthode"
   ]
  },
  {
   "cell_type": "code",
   "execution_count": 39,
   "id": "c10a0d5c",
   "metadata": {
    "scrolled": true
   },
   "outputs": [],
   "source": [
    "def get_color1(n:int,letter:str):\n",
    "    caractere=[\"a\", \"b\",\"c\",\"d\",\"e\",\"f\",\"g\",\"h\"]\n",
    "    def parite(n):\n",
    "        if n%2==0:\n",
    "            return True\n",
    "        return False\n",
    "    if (n in [1 ,2, 3, 4, 5, 6, 7, 8] and letter.lower() in caractere):\n",
    "        somme=n+1+caractere.index(letter.lower())\n",
    "        if parite(somme):\n",
    "            print(f\"Pour n = {n}, et letter={letter}, la couleur correspondante est 'Noire'\")\n",
    "        else:\n",
    "            print(f\"Pour n = {n}, et letter={letter}, la couleur correspondante est 'Blanche'\")\n",
    "    else:\n",
    "        print(\"Veuillez entrer un nombre(successivement une lettre) compris entre 1 et 8 (successivement a et h ) \")"
   ]
  },
  {
   "cell_type": "markdown",
   "id": "f04d6025",
   "metadata": {},
   "source": [
    "### Teste avec les exemples"
   ]
  },
  {
   "cell_type": "code",
   "execution_count": 25,
   "id": "b990e407",
   "metadata": {},
   "outputs": [
    {
     "name": "stdout",
     "output_type": "stream",
     "text": [
      "Pour n = 1, et letter=d, la couleur correspondante est 'Blanche'\n"
     ]
    }
   ],
   "source": [
    "get_color1(1,\"d\")"
   ]
  },
  {
   "cell_type": "code",
   "execution_count": 26,
   "id": "796eb13c",
   "metadata": {},
   "outputs": [
    {
     "name": "stdout",
     "output_type": "stream",
     "text": [
      "Pour n = 3, et letter=e, la couleur correspondante est 'Noire'\n"
     ]
    }
   ],
   "source": [
    "get_color1(3,\"e\")"
   ]
  },
  {
   "cell_type": "code",
   "execution_count": 27,
   "id": "b7e22b44",
   "metadata": {},
   "outputs": [
    {
     "name": "stdout",
     "output_type": "stream",
     "text": [
      "Pour n = 8, et letter=d, la couleur correspondante est 'Noire'\n"
     ]
    }
   ],
   "source": [
    "get_color1(8,\"d\")"
   ]
  },
  {
   "cell_type": "code",
   "execution_count": 41,
   "id": "07cfb738",
   "metadata": {},
   "outputs": [
    {
     "name": "stdout",
     "output_type": "stream",
     "text": [
      "Veuillez entrer un nombre(successivement une lettre) compris entre 1 et 8 (successivement a et h ) \n"
     ]
    }
   ],
   "source": [
    "get_color1(5,\"i\")"
   ]
  },
  {
   "cell_type": "markdown",
   "id": "bf39a558",
   "metadata": {},
   "source": [
    "## 2ème Méthode"
   ]
  },
  {
   "cell_type": "code",
   "execution_count": 31,
   "id": "b803d62c",
   "metadata": {},
   "outputs": [],
   "source": [
    "def get_color2(n:int,letter:str):\n",
    "    couleur=str(n)+str(letter)\n",
    "    if couleur!=None:\n",
    "        dico={\n",
    "            \"blanche\":[\"1b\",\"1d\",\"1f\",\"1h\",\"2a\",\"2c\",\"2e\",\"2g\",\n",
    "                       \"3b\",\"3d\",\"3f\",\"3h\",\"4a\",\"4c\",\"4e\",\"4g\",\n",
    "                      \"5b\",\"5d\",\"5f\",\"5h\",\"6a\",\"6c\",\"6e\",\"6g\",\n",
    "                      \"7b\",\"7d\",\"7f\",\"7h\",\"8a\",\"8c\",\"8e\",\"8g\"],\n",
    "            \"noire\" : [\"1a\",\"1c\",\"1e\",\"1g\",\"2b\",\"2d\",\"2f\",\"2h\",\n",
    "                       \"3a\",\"3c\",\"3e\",\"3g\",\"4b\",\"4d\",\"4f\",\"4h\",\n",
    "                      \"5a\",\"5c\",\"5e\",\"5g\",\"6b\",\"6d\",\"6f\",\"6h\",\n",
    "                      \"7a\",\"7c\",\"7e\",\"7g\",\"8b\",\"8d\",\"8f\",\"8h\"]\n",
    "        }\n",
    "        if couleur in dico[\"blanche\"]:\n",
    "            print(f\"Pour n = {n}, et letter={letter}, la couleur correspondante est 'Blanche'\")\n",
    "        elif couleur in dico[\"noire\"]:\n",
    "            print(f\"Pour n = {n}, et letter={letter}, la couleur correspondante est 'Noire'\")\n",
    "        else:\n",
    "            print(\"Veuillez entrer un nombre(successivement une lettre) compris entre 1 et 8 (successivement a et h ) \")"
   ]
  },
  {
   "cell_type": "markdown",
   "id": "ca3dd89a",
   "metadata": {},
   "source": [
    "### Test"
   ]
  },
  {
   "cell_type": "code",
   "execution_count": 37,
   "id": "89ee3297",
   "metadata": {},
   "outputs": [
    {
     "name": "stdout",
     "output_type": "stream",
     "text": [
      "Pour n = 1, et letter=d, la couleur correspondante est 'Blanche'\n"
     ]
    }
   ],
   "source": [
    "get_color2(1,\"d\")"
   ]
  },
  {
   "cell_type": "code",
   "execution_count": 33,
   "id": "da393cd4",
   "metadata": {},
   "outputs": [
    {
     "name": "stdout",
     "output_type": "stream",
     "text": [
      "Pour n = 3, et letter=e, la couleur correspondante est 'Noire'\n"
     ]
    }
   ],
   "source": [
    "get_color2(3,\"e\")"
   ]
  },
  {
   "cell_type": "code",
   "execution_count": 34,
   "id": "394fed7e",
   "metadata": {},
   "outputs": [
    {
     "name": "stdout",
     "output_type": "stream",
     "text": [
      "Pour n = 8, et letter=d, la couleur correspondante est 'Noire'\n"
     ]
    }
   ],
   "source": [
    "get_color2(8,\"d\")"
   ]
  },
  {
   "cell_type": "code",
   "execution_count": 38,
   "id": "25e8f6b6",
   "metadata": {},
   "outputs": [
    {
     "name": "stdout",
     "output_type": "stream",
     "text": [
      "Veuillez entrer un nombre(successivement une lettre) compris entre 1 et 8 (successivement a et h ) \n"
     ]
    }
   ],
   "source": [
    "get_color2(1,\"j\")"
   ]
  },
  {
   "cell_type": "markdown",
   "id": "0717275c",
   "metadata": {},
   "source": [
    "## Exercice 3\n",
    "#### Ecrire une fonction en python is_prime qui prend en entrée un entier positif n et retourne True si n est premier et False dans le cas contraire.\n",
    "##### On rappelle qu’un entier naturel est premier s’il n’admet que deux diviseurs: 1 et lui-même."
   ]
  },
  {
   "cell_type": "code",
   "execution_count": 62,
   "id": "d603b749",
   "metadata": {},
   "outputs": [],
   "source": [
    "def is_prime(n)->bool:\n",
    "    for x in list(range(2,n)):\n",
    "        if n%x==0:\n",
    "            return False\n",
    "    return True"
   ]
  },
  {
   "cell_type": "code",
   "execution_count": 63,
   "id": "8cdb32c3",
   "metadata": {},
   "outputs": [
    {
     "name": "stdout",
     "output_type": "stream",
     "text": [
      "False\n"
     ]
    }
   ],
   "source": [
    "print(is_prime(18))"
   ]
  },
  {
   "cell_type": "markdown",
   "id": "2bde0397",
   "metadata": {},
   "source": [
    "## Exercice 4\n",
    "### Ecrire une fonction en python next_prime qui prend en entrée un entier positif n et retourne le plus petit nombre premier qui vient après n.\n",
    "### Exemples :\n",
    "#### • next_prime(2) --> 3\n",
    "#### • next_prime(10) --> 11"
   ]
  },
  {
   "cell_type": "code",
   "execution_count": 64,
   "id": "4a43bf5f",
   "metadata": {},
   "outputs": [],
   "source": [
    "def next_prime(n:int)->int:\n",
    "    while not is_prime(n+1):\n",
    "        n+=1\n",
    "    else:\n",
    "        return n+1"
   ]
  },
  {
   "cell_type": "markdown",
   "id": "22e852dd",
   "metadata": {},
   "source": [
    "## Teste"
   ]
  },
  {
   "cell_type": "code",
   "execution_count": 65,
   "id": "72fece54",
   "metadata": {},
   "outputs": [
    {
     "data": {
      "text/plain": [
       "3"
      ]
     },
     "execution_count": 65,
     "metadata": {},
     "output_type": "execute_result"
    }
   ],
   "source": [
    "next_prime(2)"
   ]
  },
  {
   "cell_type": "code",
   "execution_count": 66,
   "id": "db688a18",
   "metadata": {},
   "outputs": [
    {
     "data": {
      "text/plain": [
       "11"
      ]
     },
     "execution_count": 66,
     "metadata": {},
     "output_type": "execute_result"
    }
   ],
   "source": [
    "next_prime(10)"
   ]
  },
  {
   "cell_type": "code",
   "execution_count": 67,
   "id": "2c53260e",
   "metadata": {},
   "outputs": [
    {
     "data": {
      "text/plain": [
       "17"
      ]
     },
     "execution_count": 67,
     "metadata": {},
     "output_type": "execute_result"
    }
   ],
   "source": [
    "next_prime(13)"
   ]
  },
  {
   "cell_type": "markdown",
   "id": "4f02d4d1",
   "metadata": {},
   "source": [
    "## Exercice 5\n",
    "### Ecrire une fonction en python check_password qui prend en entrée un mot de passe password sous forme de chaine de caractères et retourne True si le mot de passe comporte au moins\n",
    "#### • 8 caractères,\n",
    "#### • une lettre en majuscule,\n",
    "#### • une lettre en muniscule,\n",
    "#### • un caratère spécial dans @#&%?!,\n",
    "#### • un chiffre : 0,1,2,3,4,5,6,7,8,9.\n",
    "#### et False dans le cas contraire."
   ]
  },
  {
   "cell_type": "code",
   "execution_count": 68,
   "id": "21f4406b",
   "metadata": {},
   "outputs": [],
   "source": [
    "def check_password(Email:str)->bool:\n",
    "    pass"
   ]
  },
  {
   "cell_type": "code",
   "execution_count": null,
   "id": "cdcd500f",
   "metadata": {},
   "outputs": [],
   "source": []
  }
 ],
 "metadata": {
  "kernelspec": {
   "display_name": "Python 3 (ipykernel)",
   "language": "python",
   "name": "python3"
  },
  "language_info": {
   "codemirror_mode": {
    "name": "ipython",
    "version": 3
   },
   "file_extension": ".py",
   "mimetype": "text/x-python",
   "name": "python",
   "nbconvert_exporter": "python",
   "pygments_lexer": "ipython3",
   "version": "3.9.12"
  }
 },
 "nbformat": 4,
 "nbformat_minor": 5
}
