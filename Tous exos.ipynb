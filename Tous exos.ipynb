{
 "cells": [
  {
   "cell_type": "markdown",
   "id": "b09cdbb4",
   "metadata": {},
   "source": [
    "## MEMBRES:\n",
    "### PAPE IBRAHIMA KONATE GNINGUE\n",
    "### HAMADY SAKANOKO"
   ]
  },
  {
   "cell_type": "markdown",
   "id": "7c46eeb2",
   "metadata": {},
   "source": [
    "# Projet de Python \n",
    "## DIC1 2022-2023, GIT/EPT\n",
    "### A noter que ce document regroupe d'une manière générale les exercices et certains tests de fonctions implémentées.\n",
    "#### NB : la qualité de votre code et le respect des PEP 8 et 257 seront pris en compte."
   ]
  },
  {
   "cell_type": "markdown",
   "id": "ea650577",
   "metadata": {},
   "source": [
    "Exercice 1 :"
   ]
  },
  {
   "cell_type": "markdown",
   "id": "e8e244ee",
   "metadata": {},
   "source": [
    "1. Écrire une fonction get_primes qui prend en entrée une liste d’entiers et qui renvoie la\n",
    "liste des nombres premiers contenus dans cette liste. On rappelle que 2 est le plus petit\n",
    "nombre premier.\n",
    "2. Écrire une fonction next10primes qui prend en entrée un nombre entier n et qui renvoie\n",
    "la liste des 10 premiers nombres premiers strictement supérieurs à n.\n",
    "3. Écrire de deux façon différentes une fonction get_head qui prend en entrée un dic\u0002tionnaire avec des noms d’employés comme clés et leur salaire annuel comme valeur. La\n",
    "fonction doit retourner le nom de l’employé ayant le salaire annuel le plus élevé.<br>\n",
    "Exemple : si le dictionnaire d’entrée est \"Alice\" : 50000, \"Bob\" : 60000, \"Charlie\" :\n",
    "40000, la fonction doit retourner \"Bob\". On complétera"
   ]
  },
  {
   "cell_type": "markdown",
   "id": "5b42b43a",
   "metadata": {},
   "source": [
    "1. Écrire une fonction get_primes qui prend en entrée une liste d’entiers et qui renvoie la\n",
    "liste des nombres premiers contenus dans cette liste. On rappelle que 2 est le plus petit\n",
    "nombre premier.\n"
   ]
  },
  {
   "cell_type": "code",
   "execution_count": 336,
   "id": "b540eb19",
   "metadata": {},
   "outputs": [],
   "source": [
    "#1) Une manière de tester la primalité\n",
    "def primee(n):\n",
    "    for i in range(2,n):\n",
    "        if n%i==0:\n",
    "            return False\n",
    "    return True"
   ]
  },
  {
   "cell_type": "code",
   "execution_count": 337,
   "id": "fe429bb9",
   "metadata": {},
   "outputs": [],
   "source": [
    "#1) Une autre manière de tester la primalité\n",
    "def prime(n):\n",
    "    if n>=2:\n",
    "        return all(n%i!=0 for i in range(2, n))\n",
    "    return False"
   ]
  },
  {
   "cell_type": "code",
   "execution_count": 338,
   "id": "ec16494c",
   "metadata": {},
   "outputs": [],
   "source": [
    "#1)\n",
    "def get_primes(liste:list):\n",
    "    return list(filter(prime, liste))"
   ]
  },
  {
   "cell_type": "markdown",
   "id": "26a37c7c",
   "metadata": {},
   "source": [
    "##### TEST"
   ]
  },
  {
   "cell_type": "code",
   "execution_count": 275,
   "id": "85dd29f1",
   "metadata": {},
   "outputs": [
    {
     "data": {
      "text/plain": [
       "[2, 3, 5, 7, 11, 13, 17, 19, 23, 29]"
      ]
     },
     "execution_count": 275,
     "metadata": {},
     "output_type": "execute_result"
    }
   ],
   "source": [
    "get_primes(list(range(30)))"
   ]
  },
  {
   "cell_type": "markdown",
   "id": "7acbdd14",
   "metadata": {},
   "source": [
    "2. Écrire une fonction next10primes qui prend en entrée un nombre entier n et qui renvoie\n",
    "la liste des 10 premiers nombres premiers strictement supérieurs à n.\n"
   ]
  },
  {
   "cell_type": "code",
   "execution_count": 339,
   "id": "c5143abb",
   "metadata": {},
   "outputs": [],
   "source": [
    "#2)\n",
    "def next10primes(n:int):\n",
    "    L=[]\n",
    "    while len(L)<10:\n",
    "        if prime(n+1):\n",
    "            L.append(n+1)\n",
    "        n+=1\n",
    "    return L"
   ]
  },
  {
   "cell_type": "markdown",
   "id": "0f015dcf",
   "metadata": {},
   "source": [
    "##### TEST"
   ]
  },
  {
   "cell_type": "code",
   "execution_count": 292,
   "id": "9f9bbf7b",
   "metadata": {},
   "outputs": [
    {
     "data": {
      "text/plain": [
       "[7, 11, 13, 17, 19, 23, 29, 31, 37, 41]"
      ]
     },
     "execution_count": 292,
     "metadata": {},
     "output_type": "execute_result"
    }
   ],
   "source": [
    "V=next10primes(5)\n",
    "V"
   ]
  },
  {
   "cell_type": "markdown",
   "id": "395c1453",
   "metadata": {},
   "source": [
    "3. Écrire de deux façon différentes une fonction get_head qui prend en entrée un dic\u0002tionnaire avec des noms d’employés comme clés et leur salaire annuel comme valeur. La\n",
    "fonction doit retourner le nom de l’employé ayant le salaire annuel le plus élevé.<br>\n",
    "Exemple : si le dictionnaire d’entrée est \"Alice\" : 50000, \"Bob\" : 60000, \"Charlie\" :\n",
    "40000, la fonction doit retourner \"Bob\". On complétera"
   ]
  },
  {
   "cell_type": "code",
   "execution_count": 286,
   "id": "cdf10a31",
   "metadata": {},
   "outputs": [],
   "source": [
    "#3) 1ère manière\n",
    "def get_head1(dico:dict):\n",
    "    Max=max(dico.values())\n",
    "    l=[]\n",
    "    for key,valeurs in dico.items():\n",
    "        if valeurs==Max:\n",
    "            l.append(key)\n",
    "    return l"
   ]
  },
  {
   "cell_type": "markdown",
   "id": "85a68041",
   "metadata": {},
   "source": [
    "##### TEST"
   ]
  },
  {
   "cell_type": "code",
   "execution_count": 279,
   "id": "acb20f52",
   "metadata": {},
   "outputs": [
    {
     "data": {
      "text/plain": [
       "['Ali', 'Daouda']"
      ]
     },
     "execution_count": 279,
     "metadata": {},
     "output_type": "execute_result"
    }
   ],
   "source": [
    "d={\"Alice\" : 50000, \"Bob\" : 60000, \"Charlie\" : 40000,\"Ali\":70000,\"Binta\":65000,\"Daouda\":70000}\n",
    "get_head1(d)"
   ]
  },
  {
   "cell_type": "code",
   "execution_count": 290,
   "id": "d4bd2a2f",
   "metadata": {},
   "outputs": [],
   "source": [
    "#3) 2ème manière\n",
    "def get_head2(dico:dict):\n",
    "    return [keys for keys in dico if dico[keys]==max(dico.values())]"
   ]
  },
  {
   "cell_type": "markdown",
   "id": "cd0525e9",
   "metadata": {},
   "source": [
    "##### TEST"
   ]
  },
  {
   "cell_type": "code",
   "execution_count": 291,
   "id": "19e991b1",
   "metadata": {},
   "outputs": [
    {
     "data": {
      "text/plain": [
       "['Ali', 'Daouda']"
      ]
     },
     "execution_count": 291,
     "metadata": {},
     "output_type": "execute_result"
    }
   ],
   "source": [
    "get_head2(d)"
   ]
  },
  {
   "cell_type": "markdown",
   "id": "660b0866",
   "metadata": {},
   "source": [
    "## Exercice 2 : Clustering"
   ]
  },
  {
   "cell_type": "markdown",
   "id": "aef50669",
   "metadata": {},
   "source": [
    "Supposons que vous avez un dataset constitué de N points en deux dimensions (i.e chaque point\n",
    "est un couple). Vous voulez diviser ces points en n clusters distincts.\n",
    "1. Ecrire une fonction rand_dataset qui prend en entrée en entier n et retourne aléatoirement une liste de n points (a,b) où 0 ≤ a, b ≤ 10.\n",
    "2. Ecrire une fonction distance qui prend en entrée deux points et retourne la distance\n",
    "euclidienne. On rappelle que distance((x1, y1),(x2, y2)) = p (x1 − x2)<sup>2</sup> + (y1 − y2)<sup>2</sup>\n",
    "3. Ecrire une fonction get_clusters qui prend en entrée une liste des centres des clusters\n",
    "(les centres sont des couples) et le dataset et retourne un dictionnaire où <br>\n",
    "— la clé représente le centre du cluster et <br>\n",
    "— la valeur représente la liste de tous les points du dataset qui sont plus proches de ce\n",
    "centre.\n",
    "4. Ecrire une fonction plot_dataset qui prend en entrée un dataset et une liste des centres\n",
    "des clusters et trace un graphique où <br>\n",
    "— les couleurs des centres sont distinctes. <br>\n",
    "— les points d’un cluster ont la même couleur mais on doit pouvoir faire une distinction\n",
    "entre le centre et les autres points du cluster."
   ]
  },
  {
   "cell_type": "markdown",
   "id": "ffdb7e05",
   "metadata": {},
   "source": [
    "1. Ecrire une fonction rand_dataset qui prend en entrée en entier n et retourne aléatoirement une liste de n points (a,b) où 0 ≤ a, b ≤ 10.\n"
   ]
  },
  {
   "cell_type": "code",
   "execution_count": 1,
   "id": "97a96963",
   "metadata": {},
   "outputs": [],
   "source": [
    "from random import random\n",
    "#1)\n",
    "def rand_dataset(n:int):\n",
    "    return [(10*random(),10*random()) for i in range(n)]"
   ]
  },
  {
   "cell_type": "markdown",
   "id": "d97da317",
   "metadata": {},
   "source": [
    "##### TEST"
   ]
  },
  {
   "cell_type": "code",
   "execution_count": 2,
   "id": "cfedd912",
   "metadata": {},
   "outputs": [
    {
     "data": {
      "text/plain": [
       "[(6.835796737440515, 2.683259921491431),\n",
       " (1.4458477311739482, 8.776016303592721),\n",
       " (9.234901157581305, 0.8457039330078808),\n",
       " (3.527448230193885, 4.678891401702135),\n",
       " (8.584030036433628, 0.10859357223771404)]"
      ]
     },
     "execution_count": 2,
     "metadata": {},
     "output_type": "execute_result"
    }
   ],
   "source": [
    "rand_dataset(5)"
   ]
  },
  {
   "cell_type": "markdown",
   "id": "66ac7bee",
   "metadata": {},
   "source": [
    "2. Ecrire une fonction distance qui prend en entrée deux points et retourne la distance\n",
    "euclidienne. On rappelle que distance((x1, y1),(x2, y2)) = p (x1 − x2)<sup>2</sup> + (y1 − y2)<sup>2</sup>\n"
   ]
  },
  {
   "cell_type": "code",
   "execution_count": 3,
   "id": "53703a6d",
   "metadata": {},
   "outputs": [],
   "source": [
    "#2)\n",
    "def distance(A:tuple,B:tuple):\n",
    "    if len(A)==len(B):\n",
    "        return (sum([(A[i]-B[i])**2  for i in range(len(A))]))**0.5\n",
    "    print(\"Veuillez entrez deux tuples de même taille.\")"
   ]
  },
  {
   "cell_type": "markdown",
   "id": "bc5f8247",
   "metadata": {},
   "source": [
    "##### TEST"
   ]
  },
  {
   "cell_type": "code",
   "execution_count": 4,
   "id": "fecd183c",
   "metadata": {},
   "outputs": [
    {
     "data": {
      "text/plain": [
       "4.47213595499958"
      ]
     },
     "execution_count": 4,
     "metadata": {},
     "output_type": "execute_result"
    }
   ],
   "source": [
    "distance((2, 9), (6, 7))"
   ]
  },
  {
   "cell_type": "code",
   "execution_count": 5,
   "id": "0f608bec",
   "metadata": {},
   "outputs": [
    {
     "data": {
      "text/plain": [
       "2.0"
      ]
     },
     "execution_count": 5,
     "metadata": {},
     "output_type": "execute_result"
    }
   ],
   "source": [
    "distance((-1, 1), (1, 1))"
   ]
  },
  {
   "cell_type": "markdown",
   "id": "328c1e6b",
   "metadata": {},
   "source": [
    "3. Ecrire une fonction get_clusters qui prend en entrée une liste des centres des clusters\n",
    "(les centres sont des couples) et le dataset et retourne un dictionnaire où <br>\n",
    "— la clé représente le centre du cluster et <br>\n",
    "— la valeur représente la liste de tous les points du dataset qui sont plus proches de ce\n",
    "centre."
   ]
  },
  {
   "cell_type": "code",
   "execution_count": 6,
   "id": "eb06b2d0",
   "metadata": {},
   "outputs": [],
   "source": [
    "#3)\n",
    "def get_clusters1(centers:list,dataset:list):\n",
    "    clusters={}\n",
    "    for i in centers:\n",
    "        clusters[i]=[]\n",
    "    for j in dataset:\n",
    "        m=min([distance(j,i) for i in centers])\n",
    "        for i in centers:\n",
    "            if m==distance(j,i):\n",
    "                clusters[i].append(j)\n",
    "    return clusters"
   ]
  },
  {
   "cell_type": "code",
   "execution_count": 7,
   "id": "0c21e465",
   "metadata": {},
   "outputs": [],
   "source": [
    "#3)\n",
    "def get_clusters(centers:list,dataset:list):\n",
    "    clusters={}\n",
    "    for i in centers:\n",
    "        clusters[i]=[]\n",
    "    [clusters[i].append(j) for j in dataset for i in centers \\\n",
    "     if distance(j,i)==min([distance(j,i) for i in centers])]\n",
    "    return clusters"
   ]
  },
  {
   "cell_type": "markdown",
   "id": "0409d8f8",
   "metadata": {},
   "source": [
    "### TEST"
   ]
  },
  {
   "cell_type": "code",
   "execution_count": 13,
   "id": "0bd4a589",
   "metadata": {},
   "outputs": [
    {
     "data": {
      "text/plain": [
       "{(5.761794528893972, 6.346691826631266): [(1, 7)],\n",
       " (6.6807642374740706, 5.150559565665759): [(11, -2)],\n",
       " (2.2551680136718755, 1.1303302818011651): [(-3, 6),\n",
       "  (-8, 3),\n",
       "  (3, 2),\n",
       "  (3.6, -4),\n",
       "  (6, 0)]}"
      ]
     },
     "execution_count": 13,
     "metadata": {},
     "output_type": "execute_result"
    }
   ],
   "source": [
    "dataset=[(-3,6),(1,7),(-8,3),(3,2),(11,-2),(3.6,-4),(6,0)]\n",
    "centers=rand_dataset(3)\n",
    "classes=get_clusters1(centers,dataset)\n",
    "classes"
   ]
  },
  {
   "cell_type": "code",
   "execution_count": 14,
   "id": "a421d112",
   "metadata": {},
   "outputs": [
    {
     "data": {
      "text/plain": [
       "{(5.761794528893972, 6.346691826631266): [(1, 7)],\n",
       " (6.6807642374740706, 5.150559565665759): [(11, -2)],\n",
       " (2.2551680136718755, 1.1303302818011651): [(-3, 6),\n",
       "  (-8, 3),\n",
       "  (3, 2),\n",
       "  (3.6, -4),\n",
       "  (6, 0)]}"
      ]
     },
     "execution_count": 14,
     "metadata": {},
     "output_type": "execute_result"
    }
   ],
   "source": [
    "classses=get_clusters(centers,dataset)\n",
    "classses"
   ]
  },
  {
   "cell_type": "markdown",
   "id": "58eca726",
   "metadata": {},
   "source": [
    "4. Ecrire une fonction plot_dataset qui prend en entrée un dataset et une liste des centres\n",
    "des clusters et trace un graphique où <br>\n",
    "— les couleurs des centres sont distinctes. <br>\n",
    "— les points d’un cluster ont la même couleur mais on doit pouvoir faire une distinction\n",
    "entre le centre et les autres points du cluster."
   ]
  },
  {
   "cell_type": "code",
   "execution_count": 70,
   "id": "32175678",
   "metadata": {},
   "outputs": [],
   "source": [
    "import matplotlib.pyplot as plt\n",
    "\n",
    "def plot_dataset(centers:list,dataset:list):\n",
    "    classes=get_clusters(centers, dataset)\n",
    "    colors = plt.cm.tab10.colors\n",
    "    for i, cluster in enumerate(classes):\n",
    "        x = [cluster[0]] + [classes[cluster][j][0] for j in range(len(classes[cluster]))]\n",
    "        y = [cluster[1]] + [classes[cluster][j][1] for j in range(len(classes[cluster]))]\n",
    "        plt.scatter(x[0],y[0],marker=\"*\", color=colors[i],s=250)\n",
    "        plt.scatter(x[1:],y[1:],marker=\"o\", color=colors[i])\n",
    "    plt.show()\n"
   ]
  },
  {
   "cell_type": "code",
   "execution_count": 72,
   "id": "06892c5a",
   "metadata": {},
   "outputs": [
    {
     "data": {
      "image/png": "[encoded data removed]",
      "text/plain": [
       "<Figure size 432x288 with 1 Axes>"
      ]
     },
     "metadata": {
      "needs_background": "light"
     },
     "output_type": "display_data"
    }
   ],
   "source": [
    "plot_dataset(rand_dataset(5),rand_dataset(50))"
   ]
  },
  {
   "cell_type": "markdown",
   "id": "91c08557",
   "metadata": {},
   "source": [
    "## Exercice 3 :\n",
    "Vous travaillez pour une entreprise qui possède une grande base de données\n",
    "contenant des informations sur des personnes, notamment leur nom, prénom, âge, adresse et\n",
    "numéro de téléphone. Votre tâche consiste à écrire un module Python qui permet de gérer cette\n",
    "base de données.\n",
    "Le module doit contenir une fonction qui permet de :\n",
    "1. Ajouter une personne à la base de données via son nom, prénom, âge, adresse et numéro\n",
    "de téléphone.\n",
    "2. Modifier les informations d’une personne existante via son nom et en permettant de\n",
    "modifier son prénom, son âge, son adresse ou son numéro de téléphone. Autrement dit,\n",
    "la fonction pourrait prendre en entrée le nom et un dictionnaire des paramètres à mettre\n",
    "à jour.\n",
    "3. Supprimer une personne de la base de données via son nom.\n",
    "4. Rechercher une personne dans la base de données via son nom et en affichant toutes ses\n",
    "informations sous la forme :\n",
    "Nom : <nom> Prenom : <Prenom> Age : <Age> Adresse : <Adresse> Numero : <Numero>\n",
    "5. Afficher la liste de toutes les personnes présentes dans la base de données sous la forme :\n",
    "Nom : <nom> Prenom : <Prenom> Age : <Age> Adresse : <Adresse> Numero : <Numero>\n",
    "Nom : <nom> Prenom : <Prenom> Age : <Age> Adresse : <Adresse> Numero : <Numero>\n",
    "etc."
   ]
  },
  {
   "cell_type": "markdown",
   "id": "5247f5c9",
   "metadata": {},
   "source": [
    "# Remarque :\n",
    "## Partie I :\n",
    "On suppose que la base de données est réprésentée sous forme de liste et\n",
    "chaque enregistrement dans la base est réprésenté sous forme de dictionnaire avec comme\n",
    "clés : nom, prenom, age, adresse, et numero."
   ]
  },
  {
   "cell_type": "markdown",
   "id": "0e82267a",
   "metadata": {},
   "source": [
    "1)Ajouter une personne à la base de données via son nom, prénom, âge, adresse et numéro de \n",
    " téléphone."
   ]
  },
  {
   "cell_type": "code",
   "execution_count": 109,
   "id": "f25acb4c",
   "metadata": {},
   "outputs": [],
   "source": [
    "def ajouter(DATABASE:list,**infos):\n",
    "    \"\"\"\n",
    "    \n",
    "    \"\"\"\n",
    "    for dictionnaire in DATABASE:\n",
    "        if infos[\"nom\"] == list(dictionnaire.values())[0]:\n",
    "            name = infos[\"nom\"]\n",
    "            print(f\"Le nom {name}  est dejà sur la base\")\n",
    "            return \n",
    "    else:\n",
    "        clefs=['nom', 'prenom', 'age', 'addresse', 'numero']\n",
    "        if all(k in list(infos.keys()) for k in clefs):\n",
    "            DATABASE.append({k:infos[k] for k in clefs})\n",
    "            print(\"Ajout avec succes!\\n\")\n",
    "        else:\n",
    "            print(f\"Le dictionnaire des informations personnelles doit avoir ces clés {clefs}\\n\")"
   ]
  },
  {
   "cell_type": "code",
   "execution_count": 111,
   "id": "9c276e5f",
   "metadata": {},
   "outputs": [
    {
     "name": "stdout",
     "output_type": "stream",
     "text": [
      "Ajout avec succes!\n",
      "\n",
      "Ajout avec succes!\n",
      "\n",
      "Ajout avec succes!\n",
      "\n"
     ]
    }
   ],
   "source": [
    "ma_base1=[]\n",
    "ma_base2=[]\n",
    "ajouter(ma_base1,nom=\"saka\",prenom=\"hama\",age=15,addresse=\"soutouta\",numero=785976026)\n",
    "ajouter(ma_base1,nom=\"sakano\",prenom=\"hamad\",age=15,addresse=\"souta\",numero=785976026)\n",
    "ajouter(ma_base1,nom=\"Gning\",prenom=\"Ibrahima\",age=5,addresse=\"Dakar\",numero=77969676)"
   ]
  },
  {
   "cell_type": "code",
   "execution_count": 112,
   "id": "2c27de58",
   "metadata": {},
   "outputs": [
    {
     "name": "stdout",
     "output_type": "stream",
     "text": [
      "Ajout avec succes!\n",
      "\n"
     ]
    }
   ],
   "source": [
    "hamdy=dict(nom=\"Ndiaye\",prenom=\"hamdy\",age=25,addresse=\"manminlon\",numero=777776026,ln=\"haha\")\n",
    "ajouter(ma_base1,**hamdy)"
   ]
  },
  {
   "cell_type": "code",
   "execution_count": 113,
   "id": "579c30bb",
   "metadata": {},
   "outputs": [
    {
     "name": "stdout",
     "output_type": "stream",
     "text": [
      "Le nom Ndiaye  est dejà sur la base\n"
     ]
    }
   ],
   "source": [
    "ajouter(ma_base1,**hamdy)"
   ]
  },
  {
   "cell_type": "markdown",
   "id": "5200f11b",
   "metadata": {},
   "source": [
    "2) Modifier les informations d’une personne existante via son nom et en permettant de modifier \n",
    "   son prénom, son âge, son adresse ou son numéro de téléphone. Autrement dit, la fonction \n",
    "   pourrait prendre en entrée le nom et un dictionnaire des paramètres à mettre à jour."
   ]
  },
  {
   "cell_type": "code",
   "execution_count": 83,
   "id": "8f0cbc9c",
   "metadata": {},
   "outputs": [],
   "source": [
    "\n",
    "def modifier(DATABASE:list, name:str, **infos):\n",
    "    clefs = ['nom', 'prenom', 'age', 'addresse', 'numero']\n",
    "    for dictionnaire in DATABASE:\n",
    "        if name == list(dictionnaire.values())[0]:\n",
    "            clefs_modifier = [k for k in clefs if k in list(infos.keys())]\n",
    "            for i in clefs_modifier:\n",
    "                dictionnaire[i] = infos[i]\n",
    "            print(\"Modification avec succes!\\n\")\n",
    "            return \n",
    "    else:\n",
    "        print(f\"cette personne du nom de :{name} n'est pas enregistrer dans la base\")\n",
    "        "
   ]
  },
  {
   "cell_type": "code",
   "execution_count": 114,
   "id": "6df1f23f",
   "metadata": {},
   "outputs": [
    {
     "name": "stdout",
     "output_type": "stream",
     "text": [
      "Modification avec succes!\n",
      "\n"
     ]
    }
   ],
   "source": [
    "modifier(ma_base1,\"saka\",nom=\"sakanoko\",prenom=\"hamady\",numero=785976030)"
   ]
  },
  {
   "cell_type": "markdown",
   "id": "8b42c1ce",
   "metadata": {},
   "source": [
    "3)Supprimer une personne de la base de données via son nom."
   ]
  },
  {
   "cell_type": "code",
   "execution_count": 85,
   "id": "3c225063",
   "metadata": {},
   "outputs": [],
   "source": [
    "def supprimer(DATABASE:list ,name:str):\n",
    "    for dictionnaire in DATABASE:\n",
    "        if name==list(dictionnaire.values())[0]:\n",
    "            DATABASE.remove(dictionnaire)\n",
    "            print(\"Suppression avec succes!\\n\")\n",
    "            return\n",
    "    else:\n",
    "        print(f\"la personne du nom de :{name} n'existe dans la base, pour la supprimer\\n\")\n"
   ]
  },
  {
   "cell_type": "code",
   "execution_count": 115,
   "id": "e1377494",
   "metadata": {},
   "outputs": [
    {
     "name": "stdout",
     "output_type": "stream",
     "text": [
      "Suppression avec succes!\n",
      "\n"
     ]
    }
   ],
   "source": [
    "supprimer(ma_base1,\"sakano\")"
   ]
  },
  {
   "cell_type": "markdown",
   "id": "d4502d4e",
   "metadata": {},
   "source": [
    "4) Rechercher une personne dans la base de données via son nom et en affichant toutes ses \n",
    "informations sous la forme : Nom : Prenom : Age : Adresse : Numero :   "
   ]
  },
  {
   "cell_type": "code",
   "execution_count": 87,
   "id": "10956234",
   "metadata": {},
   "outputs": [],
   "source": [
    "# 4)           \n",
    "def recherche(DATABASE:list, name:str):\n",
    "    \"\"\"\n",
    "    \n",
    "    \"\"\"\n",
    "    for dictionnaire in DATABASE:\n",
    "        if name == list(dictionnaire.values())[0]:\n",
    "            print(\"les informations de la personne cherchée sont: \\n\",dictionnaire)\n",
    "            return\n",
    "    else:\n",
    "        print(f\"Desolé, la personne du nom de :{name} n'est pas enregistrer dans la base\")"
   ]
  },
  {
   "cell_type": "code",
   "execution_count": 116,
   "id": "9a02ec05",
   "metadata": {},
   "outputs": [
    {
     "name": "stdout",
     "output_type": "stream",
     "text": [
      "les informations de la personne cherchée sont: \n",
      " {'nom': 'sakanoko', 'prenom': 'hamady', 'age': 15, 'addresse': 'soutouta', 'numero': 785976030}\n"
     ]
    }
   ],
   "source": [
    "recherche(ma_base1,\"sakanoko\")"
   ]
  },
  {
   "cell_type": "code",
   "execution_count": 117,
   "id": "a233cd8a",
   "metadata": {},
   "outputs": [
    {
     "name": "stdout",
     "output_type": "stream",
     "text": [
      "Desolé, la personne du nom de :sakno n'est pas enregistrer dans la base\n"
     ]
    }
   ],
   "source": [
    "recherche(ma_base1,\"sakno\")"
   ]
  },
  {
   "cell_type": "markdown",
   "id": "dfba5d78",
   "metadata": {},
   "source": [
    "5) Afficher la liste de toutes les personnes présentes dans la base de données sous la forme :\n",
    " Nom : Prenom : Age : Adresse : Numero : Nom : Prenom : Age : Adresse : Numero : etc."
   ]
  },
  {
   "cell_type": "code",
   "execution_count": 154,
   "id": "bd5ed67c",
   "metadata": {},
   "outputs": [],
   "source": [
    "def afficher(DATABASE:list):\n",
    "    for dictionnaire in DATABASE:\n",
    "        print(dictionnaire)\n",
    "        "
   ]
  },
  {
   "cell_type": "code",
   "execution_count": 155,
   "id": "ed442ed3",
   "metadata": {},
   "outputs": [
    {
     "name": "stdout",
     "output_type": "stream",
     "text": [
      "{'nom': 'sakanoko', 'prenom': 'hamady', 'age': 15, 'addresse': 'soutouta', 'numero': 785976030}\n",
      "{'nom': 'Gning', 'prenom': 'Ibrahima', 'age': 5, 'addresse': 'Dakar', 'numero': 77969676}\n",
      "{'nom': 'Ndiaye', 'prenom': 'hamdy', 'age': 25, 'addresse': 'manminlon', 'numero': 777776026}\n"
     ]
    }
   ],
   "source": [
    "afficher(ma_base1)"
   ]
  },
  {
   "cell_type": "markdown",
   "id": "d3a2c29c",
   "metadata": {},
   "source": [
    "## Partie II :\n",
    "On suppose que l’on a une base de données SQLite nommée database.sqlite3.\n",
    "On devra créer la base et une table convenablement."
   ]
  },
  {
   "cell_type": "markdown",
   "id": "e2b531c6",
   "metadata": {},
   "source": [
    "1)Ajouter une personne à la base de données via son nom, prénom, âge, adresse et numéro de \n",
    " téléphone."
   ]
  },
  {
   "cell_type": "code",
   "execution_count": 337,
   "id": "800ebf7d",
   "metadata": {},
   "outputs": [],
   "source": [
    "import sqlite3\n",
    "\n",
    "def Ajouter(ma_base: str, **infos_perso):\n",
    "    clefs = ['nom', 'prenom', 'age', 'addresse', 'numero']\n",
    "    for k in clefs:\n",
    "        if k not in infos_perso:\n",
    "            print(f\"L'opération d'ajout a échoué. Veuillez fournir la clé suivante : {k}\")\n",
    "            return\n",
    "        elif not isinstance(infos_perso[k], (str, int)):\n",
    "            print(f\"L'opération d'ajout a échoué. La valeur pour la clé '{k}' doit être un nombre entier ou une chaîne de caractères.\")\n",
    "            return\n",
    "        elif k == 'age' and not isinstance(infos_perso[k], int):\n",
    "            print(f\"L'opération d'ajout a échoué. L'âge doit être un nombre entier.\")\n",
    "            return\n",
    "    \n",
    "    try:\n",
    "        conn = sqlite3.connect(ma_base + \".db\")\n",
    "        curseur = conn.cursor()\n",
    "        curseur.execute(\"CREATE TABLE IF NOT EXISTS personne(nom TEXT PRIMARY KEY, prenom TEXT, age INTEGER, adresse TEXT, numero INTEGER)\")\n",
    "        curseur.execute(\"INSERT INTO personne(nom, prenom, age, adresse, numero) VALUES(?,?,?,?,?)\", tuple(infos_perso[k] for k in clefs))\n",
    "        conn.commit()\n",
    "        print(\"Opération réussie!\")\n",
    "    except sqlite3.IntegrityError:\n",
    "        print(\"Une erreur est survenue. Le nom existe déjà dans la base de données.\")\n",
    "    except sqlite3.Error as e:\n",
    "        print(f\"Une erreur est survenue lors de l'ajout : {e}\")\n",
    "    finally:\n",
    "        curseur.close()\n",
    "        conn.close()\n"
   ]
  },
  {
   "cell_type": "code",
   "execution_count": 338,
   "id": "9c9f233e",
   "metadata": {},
   "outputs": [
    {
     "name": "stdout",
     "output_type": "stream",
     "text": [
      "Opération réussie!\n",
      "Une erreur est survenue. Le nom existe déjà dans la base de données.\n"
     ]
    }
   ],
   "source": [
    "Ajouter(ma_base=\"base1\",nom=\"sakann\",prenom=\"hama\",age=15,addresse=\"soutouta\",numero=785976026)\n",
    "Ajouter(ma_base=\"base1\",nom=\"sakannon\",prenom=\"hamad\",age=15,addresse=\"souta\",numero=785976026)"
   ]
  },
  {
   "cell_type": "code",
   "execution_count": 170,
   "id": "a220e12b",
   "metadata": {},
   "outputs": [
    {
     "name": "stdout",
     "output_type": "stream",
     "text": [
      "Opération réussie!\n"
     ]
    }
   ],
   "source": [
    "Ajouter(ma_base=\"base1\",nom=\"Gninng\",prenom=\"Ibrahima\",age=5,addresse=\"Dakar\",numero=77969676)"
   ]
  },
  {
   "cell_type": "code",
   "execution_count": 341,
   "id": "72176e6e",
   "metadata": {},
   "outputs": [
    {
     "name": "stdout",
     "output_type": "stream",
     "text": [
      "Opération réussie!\n"
     ]
    }
   ],
   "source": [
    "hamdy=dict(nom=\"Ndiaye1\",prenom=\"hammdy\",age=25,addresse=\"manminlon\",numero=777776026,ln=\"haha\")\n",
    "Ajouter(ma_base=\"base1\",**hamdy)"
   ]
  },
  {
   "cell_type": "code",
   "execution_count": 342,
   "id": "f275259e",
   "metadata": {},
   "outputs": [
    {
     "name": "stdout",
     "output_type": "stream",
     "text": [
      "Une erreur est survenue. Le nom existe déjà dans la base de données.\n"
     ]
    }
   ],
   "source": [
    "Ajouter(ma_base=\"base1\",**hamdy)"
   ]
  },
  {
   "cell_type": "markdown",
   "id": "2e357ddf",
   "metadata": {},
   "source": [
    "2) Modifier les informations d’une personne existante via son nom et en permettant de modifier \n",
    "   son prénom, son âge, son adresse ou son numéro de téléphone. Autrement dit, la fonction \n",
    "   pourrait prendre en entrée le nom et un dictionnaire des paramètres à mettre à jour."
   ]
  },
  {
   "cell_type": "code",
   "execution_count": 386,
   "id": "6fd5d7d1",
   "metadata": {},
   "outputs": [],
   "source": [
    "import sqlite3\n",
    "\n",
    "def Modifier(ma_base: str, name: str, **infos_perso):\n",
    "    clefs = ['nom', 'prenom', 'age', 'addresse', 'numero']\n",
    "    if not all(k in infos_perso for k in clefs):\n",
    "        print(f\"L'opération de modification a échoué. Veuillez fournir les informations suivantes : {clefs}\")\n",
    "        return\n",
    "    \n",
    "    try:\n",
    "        age = int(infos_perso['age'])\n",
    "    except (ValueError, TypeError):\n",
    "        print(\"L'âge doit être un nombre entier\")\n",
    "        return\n",
    "    \n",
    "    \n",
    "    try:\n",
    "        conn = sqlite3.connect(ma_base + \".db\")\n",
    "        curseur = conn.cursor()\n",
    "        noms = curseur.execute(\"SELECT nom FROM personne\")\n",
    "        if (name,) in noms.fetchall():\n",
    "            valeurs=[infos_perso[k] for k in clefs]\n",
    "            valeurs.append(name)\n",
    "            curseur.execute(\"UPDATE personne SET nom=?, prenom=?, age=?, adresse=?, numero=? WHERE nom=?\", tuple(valeurs))\n",
    "            conn.commit()\n",
    "            print(\"Opération réussie!\")\n",
    "        else:\n",
    "            print(\"operation de modification a échoué! Car ce nom n'existe pas sur cette base.\")\n",
    "    except sqlite3.Error as e:\n",
    "        print(\"Une erreur est survenue lors de la modification, peut être le nouveau \" + \\\n",
    "              f\" que vous voulez mettre existe dejà sur la base: {e}\")\n",
    "    finally:\n",
    "        curseur.close()\n",
    "        conn.close()\n"
   ]
  },
  {
   "cell_type": "code",
   "execution_count": 398,
   "id": "4fbfb989",
   "metadata": {},
   "outputs": [
    {
     "name": "stdout",
     "output_type": "stream",
     "text": [
      "Opération réussie!\n"
     ]
    }
   ],
   "source": [
    "personne1={\"nom\":\"sakanoko1\",\"prenom\":\"hamady\",\"age\":25,\"addresse\":\"manminlon\",\"numero\":785976030}\n",
    "Modifier(\"base1\",\"saka\",**personne1)"
   ]
  },
  {
   "cell_type": "code",
   "execution_count": 395,
   "id": "5e56b9d3",
   "metadata": {},
   "outputs": [
    {
     "name": "stdout",
     "output_type": "stream",
     "text": [
      "operation de modification a échoué! Car ce nom n'existe pas sur cette base.\n"
     ]
    }
   ],
   "source": [
    "Modifier(\"base1\",\"saka\",**personne1)"
   ]
  },
  {
   "cell_type": "code",
   "execution_count": 400,
   "id": "0e8234ea",
   "metadata": {},
   "outputs": [
    {
     "name": "stdout",
     "output_type": "stream",
     "text": [
      "Une erreur est survenue lors de la modification, peut être le nouveau  que vous voulez mettre existe dejà sur la base: UNIQUE constraint failed: personne.nom\n"
     ]
    }
   ],
   "source": [
    "Modifier(\"base1\",\"sakano\",**personne1)"
   ]
  },
  {
   "cell_type": "markdown",
   "id": "72c5c51e",
   "metadata": {},
   "source": [
    "## 3)Supprimer une personne de la base de données via son nom."
   ]
  },
  {
   "cell_type": "code",
   "execution_count": 357,
   "id": "e9298017",
   "metadata": {},
   "outputs": [],
   "source": [
    "#3)\n",
    "def Supprimer(ma_base, name: str):\n",
    "    conn = sqlite3.connect(str(ma_base)+\".db\")\n",
    "    curseur = conn.cursor()\n",
    "    noms = curseur.execute(\"SELECT nom FROM personne\")\n",
    "    if (name,) in noms.fetchall():\n",
    "        curseur.execute(\"DELETE FROM personne WHERE nom=?\",(name,))\n",
    "        print(\"Opération réussie!\")\n",
    "\n",
    "    else:\n",
    "        print(\"operation de suppression a échoué! Car ce nom n'existe pas sur cette base.\")\n",
    "    conn.commit()\n",
    "    curseur.close()\n",
    "    conn.close()"
   ]
  },
  {
   "cell_type": "code",
   "execution_count": 382,
   "id": "5a1e3af1",
   "metadata": {},
   "outputs": [
    {
     "name": "stdout",
     "output_type": "stream",
     "text": [
      "Opération réussie!\n"
     ]
    }
   ],
   "source": [
    "Supprimer(\"base1\",\"sakan\")"
   ]
  },
  {
   "cell_type": "markdown",
   "id": "19bb97fd",
   "metadata": {},
   "source": [
    "4) Rechercher une personne dans la base de données via son nom et en affichant toutes ses \n",
    "informations sous la forme : Nom : Prenom : Age : Adresse : Numero :   "
   ]
  },
  {
   "cell_type": "code",
   "execution_count": 366,
   "id": "37ed9927",
   "metadata": {},
   "outputs": [],
   "source": [
    "#4)\n",
    "def Recherche(ma_base, name: str):\n",
    "    conn = sqlite3.connect(str(ma_base)+\".db\")\n",
    "    curseur = conn.cursor()\n",
    "    noms = curseur.execute(\"SELECT nom FROM personne\")\n",
    "    noms = noms.fetchall()\n",
    "    if (name,) in noms:\n",
    "        personne = curseur.execute(\"SELECT * FROM personne WHERE nom=?\", (name,)).fetchone()\n",
    "        print(\"les informations de la personne cherchée sont: \\n\")\n",
    "        print(f\"nom:{personne[0]}, prenom:{personne[1]}, age:{personne[2]}\" + \\\n",
    "              f\"addresse:{personne[3]}, numero:{personne[4]}\")\n",
    "        conn.commit()\n",
    "        curseur.close()\n",
    "        conn.close()\n",
    "    else:\n",
    "        print(f\"cette personne du nom de :{name} n'est pas enregistrer dans la base\")"
   ]
  },
  {
   "cell_type": "code",
   "execution_count": 367,
   "id": "f1cfb3d7",
   "metadata": {},
   "outputs": [
    {
     "name": "stdout",
     "output_type": "stream",
     "text": [
      "les informations de la personne cherchée sont: \n",
      "\n",
      "nom:Ndiayee, prenom:hammdy, age:25addresse:manminlon, numero:777776026\n"
     ]
    }
   ],
   "source": [
    "Recherche(ma_base=\"base1\",name=\"Ndiayee\")"
   ]
  },
  {
   "cell_type": "markdown",
   "id": "2d57b2a0",
   "metadata": {},
   "source": [
    "5) Afficher la liste de toutes les personnes présentes dans la base de données sous la forme :\n",
    " Nom : Prenom : Age : Adresse : Numero : Nom : Prenom : Age : Adresse : Numero : etc."
   ]
  },
  {
   "cell_type": "code",
   "execution_count": 401,
   "id": "bafd797a",
   "metadata": {},
   "outputs": [],
   "source": [
    "#5)\n",
    "def Afficher(ma_base):\n",
    "    conn = sqlite3.connect(str(ma_base)+\".db\")\n",
    "    curseur = conn.cursor()\n",
    "    table = curseur.execute(\"SELECT * FROM personne\")\n",
    "    table=table.fetchall()\n",
    "    if len(table) > 0:\n",
    "        for personne in table:\n",
    "            print(f\"nom:{personne[0]}, prenom:{personne[1]}, age:{personne[2]}\" + \\\n",
    "                  f\" addresse:{personne[3]}, numero:{personne[4]}\")\n",
    "        conn.commit()\n",
    "        curseur.close()\n",
    "        conn.close()\n",
    "    else:\n",
    "        print(\"La base entree est introuvable. \")"
   ]
  },
  {
   "cell_type": "code",
   "execution_count": 402,
   "id": "4f9c15d4",
   "metadata": {},
   "outputs": [
    {
     "name": "stdout",
     "output_type": "stream",
     "text": [
      "nom:sakanoko1, prenom:hamady, age:25 addresse:manminlon, numero:785976030\n",
      "nom:sakano, prenom:hamad, age:15 addresse:souta, numero:785976026\n",
      "nom:Gning, prenom:Ibrahima, age:5 addresse:Dakar, numero:77969676\n",
      "nom:Ndiaye, prenom:hamdy, age:25 addresse:manminlon, numero:777776026\n",
      "nom:sakanoko, prenom:hamady, age:25 addresse:manminlon, numero:785976030\n",
      "nom:Gninng, prenom:Ibrahima, age:5 addresse:Dakar, numero:77969676\n",
      "nom:Ndiayee, prenom:hammdy, age:25 addresse:manminlon, numero:777776026\n",
      "nom:Ndiaye1, prenom:hammdy, age:25 addresse:manminlon, numero:777776026\n"
     ]
    }
   ],
   "source": [
    "Afficher(\"base1\")"
   ]
  },
  {
   "cell_type": "markdown",
   "id": "635ab588",
   "metadata": {},
   "source": [
    "# Exercice 4 : Sur les fichiers :\n",
    "1. Écrire une une fonction qui prend en entrée le path (chemin) d’un fichier texte et retourne\n",
    "le nombre d’occurrences de chaque mot dans le fichier sous forme de dictionnaire.\n",
    "2. Écrire une une fonction qui prend en entrée le path d’un fichier texte et crée un nouveau\n",
    "fichier html correct avec le même nom et d’extension .html où le contenu de la balise\n",
    "<body> est celui du fichier texte. On devra enregistrer dans le même dossier que le\n",
    "fichier en entrée.\n",
    "3. Écrire une une fonction qui prend en entrée le path d’un fichier et un argument nommé\n",
    "obligatoire compress (un booléen)\n",
    "— si compress=True : la fonction doit compresser le fichier et le sauvegarder dans un\n",
    "nouveau fichier mais dans le même dossier que le fichier en entrée.<br>\n",
    "— si compress=False : la fonction doit décompresser le fichier et le sauvegarder dans\n",
    "un nouveau fichier mais dans le même dossier que le fichier en entrée.\n",
    "On pourra utiliser une bibliothèque de compression (par exemple, gzip ou zlib)"
   ]
  },
  {
   "cell_type": "markdown",
   "id": "6f21a9d5",
   "metadata": {},
   "source": [
    "1. Écrire une une fonction qui prend en entrée le path (chemin) d’un fichier texte et retourne\n",
    "le nombre d’occurrences de chaque mot dans le fichier sous forme de dictionnaire.\n"
   ]
  },
  {
   "cell_type": "code",
   "execution_count": 392,
   "id": "ea7c872f",
   "metadata": {},
   "outputs": [],
   "source": [
    "#1\n",
    "def ma_fonction(path:str):\n",
    "    with open(path+\".txt\",\"r\") as fichier:\n",
    "        contenu=fichier.read()\n",
    "        for i in \"!@#$%^&*()_+-=[]{}\\\\|;:\\\",.<>/?\":\n",
    "            contenu=contenu.replace(i,\"\")\n",
    "    mots=contenu.replace(\"\\n\",\" \").split(\" \")\n",
    "    dico={}\n",
    "    for x in mots:\n",
    "        if x not in (\" \"):\n",
    "            dico[x]=contenu.count(x)\n",
    "    return dico"
   ]
  },
  {
   "cell_type": "markdown",
   "id": "56855104",
   "metadata": {},
   "source": [
    "##### TEST"
   ]
  },
  {
   "cell_type": "code",
   "execution_count": 393,
   "id": "61c3a595",
   "metadata": {},
   "outputs": [
    {
     "data": {
      "text/plain": [
       "{'bonjour': 1,\n",
       " \"j'ai\": 1,\n",
       " 'besoin': 1,\n",
       " 'juste': 1,\n",
       " 'de': 1,\n",
       " 'tester': 1,\n",
       " 'les': 1,\n",
       " 'fichiers': 1,\n",
       " 'okay': 1,\n",
       " 'merci': 1}"
      ]
     },
     "execution_count": 393,
     "metadata": {},
     "output_type": "execute_result"
    }
   ],
   "source": [
    "ma_fonction('C:/Users/HP/Desktop/DIC1#48/EPS/test')"
   ]
  },
  {
   "cell_type": "markdown",
   "id": "ba2dbc5e",
   "metadata": {},
   "source": [
    "2. Écrire une une fonction qui prend en entrée le path d’un fichier texte et crée un nouveau\n",
    "fichier html correct avec le même nom et d’extension .html où le contenu de la balise\n",
    "<body> est celui du fichier texte. On devra enregistrer dans le même dossier que le\n",
    "fichier en entrée.\n"
   ]
  },
  {
   "cell_type": "code",
   "execution_count": 46,
   "id": "e0fcf4b8",
   "metadata": {},
   "outputs": [],
   "source": [
    "#2)\n",
    "def page_min(corps:str):\n",
    "    code_min=\"\"\"<!DOCTYPE html>\n",
    "    <html lang=\"en\">\n",
    "    <head>\n",
    "        <meta charset=\"UTF-8\">\n",
    "        <meta http-equiv=\"X-UA-Compatible\" content=\"IE=edge\">\n",
    "        <meta name=\"viewport\" content=\"width=device-width, initial-scale=1.0\">\n",
    "        <title>Document</title>\n",
    "    </head>\n",
    "    <body>\\n\"\"\"+corps+\"\"\"\\n</body>\n",
    "    </html>\n",
    "        \"\"\"\n",
    "    return code_min "
   ]
  },
  {
   "cell_type": "code",
   "execution_count": 34,
   "id": "251340f9",
   "metadata": {},
   "outputs": [],
   "source": [
    "def txt_to_html(path:str):\n",
    "    with open(path+\".txt\",\"r\") as fichiertext:\n",
    "        contenu=fichiertext.read()\n",
    "    with open(path+\".html\",\"w\") as fichierhtml:\n",
    "        fichierhtml.write(page_min(contenu))"
   ]
  },
  {
   "cell_type": "markdown",
   "id": "d4ef866b",
   "metadata": {},
   "source": [
    "##### TEST"
   ]
  },
  {
   "cell_type": "code",
   "execution_count": 32,
   "id": "c72e69d2",
   "metadata": {},
   "outputs": [],
   "source": [
    "txt_to_html('C:/Users/HP/Desktop/DIC1#48/EPS/test')"
   ]
  },
  {
   "cell_type": "markdown",
   "id": "c7a87698",
   "metadata": {},
   "source": [
    "3. Écrire une une fonction qui prend en entrée le path d’un fichier et un argument nommé\n",
    "obligatoire compress (un booléen)\n",
    "— si compress=True : la fonction doit compresser le fichier et le sauvegarder dans un\n",
    "nouveau fichier mais dans le même dossier que le fichier en entrée.<br>\n",
    "— si compress=False : la fonction doit décompresser le fichier et le sauvegarder dans\n",
    "un nouveau fichier mais dans le même dossier que le fichier en entrée.\n",
    "On pourra utiliser une bibliothèque de compression (par exemple, gzip ou zlib)"
   ]
  },
  {
   "cell_type": "code",
   "execution_count": 90,
   "id": "9b85019b",
   "metadata": {},
   "outputs": [],
   "source": [
    "#3)\n",
    "import zlib\n",
    "def compression(path:str,*,compress=True):\n",
    "    with open(path+\".txt\",\"rb\") as fichiertext:\n",
    "        contenu=fichiertext.read()\n",
    "    if compress==True:\n",
    "        with open(path+\"_compress.txt\",\"wb\") as fichier:\n",
    "            fichier.write(zlib.compress(contenu))\n",
    "    elif compress==False:\n",
    "        with open(path+\"_decompress.txt\",\"wb\") as fichier:\n",
    "            fichier.write(zlib.decompress(contenu))\n",
    "    else:\n",
    "        pass"
   ]
  },
  {
   "cell_type": "markdown",
   "id": "05e42279",
   "metadata": {},
   "source": [
    "##### TEST"
   ]
  },
  {
   "cell_type": "code",
   "execution_count": 91,
   "id": "84768bc6",
   "metadata": {},
   "outputs": [],
   "source": [
    "compression('C:/Users/HP/Desktop/DIC1#48/EPS/test',compress=True)"
   ]
  },
  {
   "cell_type": "code",
   "execution_count": 92,
   "id": "8bcfbdb9",
   "metadata": {},
   "outputs": [],
   "source": [
    "compression('C:/Users/HP/Desktop/DIC1#48/EPS/test_compress',compress=False)"
   ]
  },
  {
   "cell_type": "markdown",
   "id": "d5623ac8",
   "metadata": {},
   "source": [
    "## Exercice 5 :\n",
    "1. Conception de classe : Écrire une classe qui représente un livre. Le livre doit avoir un\n",
    "titre, un auteur, une date de publication et un identifiant unique. La classe doit avoir des\n",
    "méthodes pour récupérer et modifier ces attributs, ainsi qu’une méthode pour afficher\n",
    "les informations du livre.\n",
    "2. Sur l’héritage de classe : Écrire une classe qui représente un livre audio, qui hérite de\n",
    "la classe de livre que vous avez créée dans l’exercice précédent. Le livre audio doit avoir\n",
    "en plus une durée et un narrateur. La classe doit avoir des méthodes pour récupérer\n",
    "et modifier ces attributs, ainsi qu’une méthode pour afficher les informations du livre\n",
    "audio.\n",
    "##### Partie II) Écrire la documentation de la Partie I) . \n",
    "La documentation de chaque module\n",
    "devra être générée de façon automatique. On choisira également un thème (différent du thème\n",
    "par défaut) que l’on personnalisera."
   ]
  },
  {
   "cell_type": "markdown",
   "id": "550417ca",
   "metadata": {},
   "source": [
    "### Partie I)\n",
    "1) Conception de classe : Écrire une classe qui représente un livre. Le livre doit avoir un titre,un auteur, une date de publication et un identifiant unique. La classe doit avoir des méthodes pour récupérer et modifier ces attributs, ainsi qu’une méthode pour afficher les informations du livre."
   ]
  },
  {
   "cell_type": "code",
   "execution_count": 32,
   "id": "929391d0",
   "metadata": {},
   "outputs": [],
   "source": [
    "from datetime import date, time\n",
    "\n",
    "\n",
    "class Livre:\n",
    "    identifiants=[]\n",
    "    livres=[]\n",
    "    def __init__(self, identifiant: int, titre: str, auteur :str, date_pub :str):\n",
    "        if identifiant in Livre.identifiants:\n",
    "            print(\"Un livre existe dejà avec ce identifiant \")\n",
    "            for livre in Livre.livres:\n",
    "                if livre.identifiant == identifiant:\n",
    "                    self = livre\n",
    "                    break\n",
    "        else:\n",
    "            self.identifiant = identifiant\n",
    "            Livre.identifiants.append(identifiant)\n",
    "            self.titre = titre\n",
    "            self.auteur = auteur\n",
    "            try:\n",
    "                sep1 = date_pub.split(\"/\")\n",
    "                sep2 = date_pub.split(\"-\")\n",
    "                self.date_pub = date(int(sep1[0]), int(sep1[1]), int(sep1[2])) if \"/\" in date_pub \\\n",
    "                else date(int(sep2[0]), int(sep2[1]), int(sep2[2]))\n",
    "            except ValueError:\n",
    "                print(\"Il faut entrer la date de publication sous forme de 'aaaa-mm-jj' ou \" + \\\n",
    "                \"'aaaa/mm/jj'tout en sachant que les 'aaaa','mm' et 'jj' sont entiers \" + \\\n",
    "                \"et aaaa compris  entre 1 et 9999 et encore que les valeurs de 'mm' et \" + \\\n",
    "                \"'jj'peuvent exister \\n A noter:\\n 'aaaa'=année \\n 'mm'=mois \\n 'jj'=jour \\n\")\n",
    "            except IndexError:\n",
    "                print(\"Il faut obligatoirement entrer la date de publication sous forme de \" \n",
    "                      +\"'aaaa-mm-jj' ou 'aaaa-mm-jj' \")\n",
    "            else:\n",
    "                Livre.livres.append(self)\n",
    "\n",
    "    #Les méthodes pour récupérer les attributs,\n",
    "    \n",
    "    def title(self):\n",
    "        print(f\"Le titre du livre est : {self.titre}\")\n",
    "        \n",
    "    def autor(self):\n",
    "        print(f\"Le livre a comme auteur : {self.auteur}\")\n",
    "        \n",
    "    def publication(self):\n",
    "        print(f\"Le livre est publié : {self.date_pub}\")\n",
    "        \n",
    "    def identificateur(self):\n",
    "        print(f\"Le livre est ientifié par : {self.identifiant}\")\n",
    "       \n",
    "    #Les méthodes pour modifier les attributs,    \n",
    "    \n",
    "    def modifier_title(self, title:str):\n",
    "        try:\n",
    "            self.titre=title\n",
    "        except AttributeError:\n",
    "            print(\"Mais le livre n'existe pas\")\n",
    "            \n",
    "    def modifier_autor(self, autor:str):\n",
    "        try:\n",
    "            self.auteur=autor\n",
    "        except AttributeError:\n",
    "            print(\"Mais le livre n'existe pas\")\n",
    "            \n",
    "    def modifier_publication(self, publication :str):\n",
    "        try:\n",
    "            sep1=publication.split(\"/\")\n",
    "            sep2=publication.split(\"-\")\n",
    "            self.date_pub= date(int(sep1[0]), int(sep1[1]), int(sep1[2])) if \"/\" in publication \\\n",
    "            else date(int(sep2[0]), int(sep2[1]), int(sep2[2]))\n",
    "        except ValueError:\n",
    "            print(\"Il faut entrer la date de publication sous forme de 'aaaa-mm-jj' ou \" + \\\n",
    "            \"'aaaa/mm/jj'tout en sachant que les 'aaaa','mm' et 'jj' sont entiers \" + \\\n",
    "            \"et aaaa compris  entre 1 et 9999 et encore que les valeurs de 'mm' et \" + \\\n",
    "            \"'jj'peuvent exister \\n A noter:\\n 'aaaa'=année \\n 'mm'=mois \\n 'jj'=jour \\n\")\n",
    "        except IndexError:\n",
    "            print(\"Il faut obligatoirement entrer la date de publication sous forme de \" \n",
    "                  +\"'aaaa-mm-jj' ou 'aaaa-mm-jj' \")\n",
    "        except AttributeError:\n",
    "            print(\"Mais le livre n'existe pas\")\n",
    "\n",
    "        \n",
    "    def modifier_identificateur(self, identificateur: int):\n",
    "        try:\n",
    "            if self.identifiant in Livre.identifiants:\n",
    "                Livre.identifiants.remove(self.identifiant)\n",
    "                self.identifiant=identificateur\n",
    "                Livre.identifiants.append(self.identifiant)\n",
    "        except AttributeError:\n",
    "            print(\"Mais le livre n'existe pas\")\n",
    "\n",
    "    def infos_livre(self):\n",
    "        try:\n",
    "            self.identifiant in Livre.identifiants\n",
    "            print(\"Les informations de ce livre sont:\")\n",
    "            self.autor()\n",
    "            self.title()\n",
    "            self.publication()\n",
    "            self.identificateur()\n",
    "        except AttributeError:\n",
    "            print(\"Mais le livre n'existe pas\")"
   ]
  },
  {
   "cell_type": "markdown",
   "id": "8a9d8fee",
   "metadata": {},
   "source": [
    "##### TEST"
   ]
  },
  {
   "cell_type": "code",
   "execution_count": 33,
   "id": "42b8c42c",
   "metadata": {},
   "outputs": [],
   "source": [
    "monliv1=Livre(1,\"l'IA\",\"samba\",\"2023-4-2\")\n",
    "monliv2=Livre(2,\"l'IA\",\"samba\",\"2023-4-2\")\n",
    "monliv3=Livre(3,\"l'IA\",\"samba\",\"2023-4-2\")\n",
    "monliv4=Livre(4,\"l'IA\",\"samba\",\"2023-4-2\")"
   ]
  },
  {
   "cell_type": "code",
   "execution_count": 25,
   "id": "ba1e15ac",
   "metadata": {},
   "outputs": [
    {
     "name": "stdout",
     "output_type": "stream",
     "text": [
      "Un livre existe dejà avec ce identifiant \n"
     ]
    }
   ],
   "source": [
    "monlivx=Livre(3,\"l'IA\",\"samba\",\"2023-4-2\")"
   ]
  },
  {
   "cell_type": "code",
   "execution_count": 28,
   "id": "0730621d",
   "metadata": {},
   "outputs": [
    {
     "name": "stdout",
     "output_type": "stream",
     "text": [
      "Mais le livre n'existe pas\n"
     ]
    }
   ],
   "source": [
    "monlivx.infos_livre()"
   ]
  },
  {
   "cell_type": "markdown",
   "id": "df09f146",
   "metadata": {},
   "source": [
    "2) Sur l’héritage de classe : Écrire une classe qui représente un livre audio, qui hérite de la classe de livre que vous avez créée dans l’exercice précédent. Le livre audio doit avoir en plus une durée et un narrateur. La classe doit avoir des méthodes pour récupérer et modifier ces attributs, ainsi qu’une méthode pour afficher les informations du livre audio."
   ]
  },
  {
   "cell_type": "code",
   "execution_count": 9,
   "id": "689f991a",
   "metadata": {},
   "outputs": [],
   "source": [
    "class LivreAudio(Livre):\n",
    "    def __init__(self, identifiant: int, titre: str, auteur: str, date_pub: str, duree:str, narrateur:str):\n",
    "        super().__init__(identifiant, titre, auteur, date_pub)\n",
    "        self.narrateur = narrateur\n",
    "        try:\n",
    "            sep = duree.split(\":\")\n",
    "            self.duree = time(int(sep[0]), int(sep[1]), int(sep[2])) \n",
    "        except ValueError:\n",
    "            print(\"Il faut entrer la durée sous forme de 'hh:mn:ss' ou \" + \\\n",
    "            \"tout en sachant que les 'hh','mn' et 'ss' sont entiers  \\n \" +\\\n",
    "            \" A noter:\\n 'hh'=heure \\n 'mn'=munite \\n 'ss'=seconde \\n\")\n",
    "        except IndexError:\n",
    "            print(\"Il faut obligatoirement entrer la durée sous forme de \" \n",
    "                  + \"'hh:mn:ss' \")\n",
    "      \n",
    "    def duration(self):\n",
    "        print(f\"Le livre est un audio qui dure : {self.duree}\")\n",
    "        \n",
    "    def narrator(self):\n",
    "        print(f\"Le livre est un audio et a comme narrateur : {self.narrateur}\")\n",
    "        \n",
    "    def infos_livre(self):\n",
    "        try:\n",
    "            self.identifiant in Livre.identifiants\n",
    "            super().infos_livre()\n",
    "            self.duration()\n",
    "            self.narrator()\n",
    "        except AttributeError:\n",
    "            print(\"Mais le livre n'existe pas\")\n",
    "            \n",
    "    def modifier_duration(self, duree:str):\n",
    "        try:\n",
    "            self.identifiant in Livre.identifiants\n",
    "            try:\n",
    "                sep = duree.split(\":\")\n",
    "                self.date_pub = time(int(sep[0]), int(sep[1]), int(sep[2])) \n",
    "            except ValueError:\n",
    "                print(\"Il faut entrer la durée sous forme de 'hh:mn:ss' ou \" + \\\n",
    "                \"tout en sachant que les 'hh','mn' et 'ss' sont entiers \\n \" +\\\n",
    "                \" A noter:\\n 'hh'=heure \\n 'mn'=munite \\n 'ss'=seconde \\n\")\n",
    "            except IndexError:\n",
    "                print(\"Il faut obligatoirement entrer la durée sous forme de 'hh:mn:ss' \")\n",
    "        except AttributeError:\n",
    "            print(\"Mais le livre n'existe pas\")\n",
    "            \n",
    "    def modifier_narrator(self, narrator: str):\n",
    "        try:\n",
    "            self.identifiant in Livre.identifiants\n",
    "            self.narrateur = narrator\n",
    "        except AttributeError:\n",
    "            print(\"Mais le livre n'existe pas\")"
   ]
  },
  {
   "cell_type": "markdown",
   "id": "03cdf739",
   "metadata": {},
   "source": [
    "##### TEST"
   ]
  },
  {
   "cell_type": "code",
   "execution_count": 10,
   "id": "872ea1d9",
   "metadata": {},
   "outputs": [],
   "source": [
    "audio1 = LivreAudio(11,\"l'IA\",\"samba\",\"2023-4-2\",\"00:13:04\",\"hamsa\")\n",
    "audio2 = LivreAudio(12,\"l'IA\",\"samba\",\"2023-4-2\",\"00:13:04\",\"hamsa\")\n",
    "audio3 = LivreAudio(13,\"l'IA\",\"samba\",\"2023-4-2\",\"00:13:04\",\"hamsa\")"
   ]
  },
  {
   "cell_type": "code",
   "execution_count": 11,
   "id": "730d63b1",
   "metadata": {},
   "outputs": [
    {
     "name": "stdout",
     "output_type": "stream",
     "text": [
      "Les informations de ce livre sont:\n",
      "Le livre a comme auteur : samba\n",
      "Le titre du livre est : l'IA\n",
      "Le livre est publié : 2023-04-02\n",
      "Le livre est ientifié par : 11\n",
      "Le livre est un audio qui dure : 00:13:04\n",
      "Le livre est un audio et a comme narrateur : hamsa\n"
     ]
    }
   ],
   "source": [
    "audio1.infos_livre()"
   ]
  },
  {
   "cell_type": "code",
   "execution_count": 12,
   "id": "d8843421",
   "metadata": {},
   "outputs": [
    {
     "name": "stdout",
     "output_type": "stream",
     "text": [
      "Un livre existe dejà avec ce identifiant donc, on peut pas le stocker avec ce même identifiant. \n"
     ]
    }
   ],
   "source": [
    "audion = LivreAudio(13,\"l'IA\",\"samba\",\"2023-4-2\",\"00:13:04\",\"hamsa\")"
   ]
  },
  {
   "cell_type": "code",
   "execution_count": 14,
   "id": "bf678ab9",
   "metadata": {},
   "outputs": [
    {
     "name": "stdout",
     "output_type": "stream",
     "text": [
      "Les informations de ce livre sont:\n",
      "Le livre a comme auteur : samba\n",
      "Le titre du livre est : l'IA\n",
      "Le livre est publié : 2023-04-02\n",
      "Le livre est ientifié par : 13\n",
      "Le livre est un audio qui dure : 00:13:04\n",
      "Le livre est un audio et a comme narrateur : hamsa\n"
     ]
    }
   ],
   "source": [
    "audion.infos_livre()"
   ]
  }
 ],
 "metadata": {
  "kernelspec": {
   "display_name": "Python 3 (ipykernel)",
   "language": "python",
   "name": "python3"
  },
  "language_info": {
   "codemirror_mode": {
    "name": "ipython",
    "version": 3
   },
   "file_extension": ".py",
   "mimetype": "text/x-python",
   "name": "python",
   "nbconvert_exporter": "python",
   "pygments_lexer": "ipython3",
   "version": "3.9.12"
  }
 },
 "nbformat": 4,
 "nbformat_minor": 5
}
